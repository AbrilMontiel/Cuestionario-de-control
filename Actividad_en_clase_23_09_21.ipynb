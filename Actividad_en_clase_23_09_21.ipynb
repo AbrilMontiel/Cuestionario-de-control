{
  "nbformat": 4,
  "nbformat_minor": 0,
  "metadata": {
    "colab": {
      "name": "Actividad en clase 23-09-21.ipynb",
      "provenance": [],
      "authorship_tag": "ABX9TyO59daCXsxWJqR2JPRhOjqo",
      "include_colab_link": true
    },
    "kernelspec": {
      "name": "python3",
      "display_name": "Python 3"
    },
    "language_info": {
      "name": "python"
    }
  },
  "cells": [
    {
      "cell_type": "markdown",
      "metadata": {
        "id": "view-in-github",
        "colab_type": "text"
      },
      "source": [
        "<a href=\"https://colab.research.google.com/github/AbrilMontiel/Cuestionario-de-control/blob/master/Actividad_en_clase_23_09_21.ipynb\" target=\"_parent\"><img src=\"https://colab.research.google.com/assets/colab-badge.svg\" alt=\"Open In Colab\"/></a>"
      ]
    },
    {
      "cell_type": "markdown",
      "metadata": {
        "id": "wKMxH7Nhvo4-"
      },
      "source": [
        "#Programacion orientada a objetos en Python\n",
        "\n",
        "La POO es un paradigma no soportado originalmente por Pyhton, Python aneja el paradigma imperativo.\n",
        "Python simula la POO con la declaracion de clases y haciendo referencia a un objeto de forma circular.\n",
        "self en python es equivalente a this de java\n",
        "\n",
        "class <nombre de la clase>:\n",
        "      <definicion de la clase>\n",
        "\n",
        "\n",
        "class <nombre de la clase>(<super clase>):\n",
        "      <definicion del cuerpo de la clase>\n",
        "\n",
        "El constructor se define siempre con el metodo __init__()\n",
        "(DOBLE GUION BAJO ANTES Y DESPUES DEL INIT).\n",
        "\n",
        "La declaracion de atributos se realiza por medio del constructor.\n",
        "\n",
        "Para hacer encapsulaminetos de metodos o atributos se debe poner __  (DOBLE GUION BAJO) previo a la declaracion del atributo o metodo.\n"
      ]
    },
    {
      "cell_type": "code",
      "metadata": {
        "id": "yl81FXyevetS"
      },
      "source": [
        "class Persona:\n",
        "  def __init__( self, n, e , est ):\n",
        "    self.__nombre = n\n",
        "    self.__edad = e\n",
        "    self.__estatura = est\n",
        "\n",
        "  def to_string( self ):\n",
        "    return \"Nombre: \" + self.__nombre + \" Edad: \" + str(self.__edad) + \" Estatura: \" + str(self.__estatura)\n",
        "  \n",
        "  def set_estatura( self, nueva_est ):\n",
        "    if nueva_est > 0.10 and nueva_est < 2.5 :\n",
        "      self.__estatura = nueva_est\n",
        "    else: \n",
        "     print(\"Error: Esa estatura no es posible\")\n",
        "\n",
        "  def get_estatura( self ):\n",
        "    return self.__estatura"
      ],
      "execution_count": 1,
      "outputs": []
    },
    {
      "cell_type": "code",
      "metadata": {
        "colab": {
          "base_uri": "https://localhost:8080/"
        },
        "id": "ZQ-jhYmvvyVS",
        "outputId": "fe8d7a4a-23e8-4567-b3c4-0b30aeb2a55b"
      },
      "source": [
        "per = Persona(\"Abril\", 18, 1.60)\n",
        "print(per.to_string())\n",
        "\n",
        "#encapsulamiento\n",
        "\n",
        "per.nombre = \"Daira\" #ESTO NO SE RECOMIENDA\n",
        "print(per.to_string())\n",
        "\n",
        "per.estatura = 1.9\n",
        "print(per.to_string())\n",
        "\n",
        "print(\"Estatura: \", end = \"\")\n",
        "print(per.get_estatura())"
      ],
      "execution_count": 2,
      "outputs": [
        {
          "output_type": "stream",
          "name": "stdout",
          "text": [
            "Nombre: Abril Edad: 18 Estatura: 1.6\n",
            "Nombre: Abril Edad: 18 Estatura: 1.6\n",
            "Nombre: Abril Edad: 18 Estatura: 1.6\n",
            "Estatura: 1.6\n"
          ]
        }
      ]
    },
    {
      "cell_type": "code",
      "metadata": {
        "id": "Jfiqx5Cyv2D-"
      },
      "source": [
        "class Estudiante( Persona ):\n",
        "  def __init__( self, nc, nombre, edad, est ):\n",
        "    self.__num_cta = nc\n",
        "    super().__init__(nombre, edad, est)\n",
        "\n",
        "  def to_string( self ):\n",
        "    return super().to_string()+ \" Numero de cta: \" + self.__num_cta"
      ],
      "execution_count": 3,
      "outputs": []
    },
    {
      "cell_type": "code",
      "metadata": {
        "colab": {
          "base_uri": "https://localhost:8080/"
        },
        "id": "qz1clXCUv44c",
        "outputId": "cdc82a10-2c5a-4d12-96db-fa6c7f2a64a0"
      },
      "source": [
        "est = Estudiante(\"121209\", \"Abril\", 18, 1.60)\n",
        "print( est.to_string())"
      ],
      "execution_count": 4,
      "outputs": [
        {
          "output_type": "stream",
          "name": "stdout",
          "text": [
            "Nombre: Abril Edad: 18 Estatura: 1.6 Numero de cta: 121209\n"
          ]
        }
      ]
    }
  ]
}